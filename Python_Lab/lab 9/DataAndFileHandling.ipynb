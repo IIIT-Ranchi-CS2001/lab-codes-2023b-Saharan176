{
 "cells": [
  {
   "cell_type": "code",
   "execution_count": 1,
   "metadata": {},
   "outputs": [],
   "source": [
    "import pandas as pd"
   ]
  },
  {
   "cell_type": "code",
   "execution_count": 10,
   "metadata": {},
   "outputs": [],
   "source": [
    "try :\n",
    "    df=pd.read_csv('election_data.csv')\n",
    "except FileNotFoundError:\n",
    "    dic={'State':['Madhya Pradesh','Madhya Pradesh','Madhya Pradesh','Madhya Pradesh','Rajasthan','Rajasthan','Rajasthan','Rajasthan',],\n",
    "         'Party':['BJP','INC','BSP','Others','BJP','INC','BSP','Others'],\n",
    "         'Seats_Won':[163,66,0,1,115,69,2,13],\n",
    "         'Total_Seats':[230,230,230,230,200,200,200,200],\n",
    "         'Voter_Turnout':[72.1,72.1,72.1,72.1,74.2,74.2,74.2,74.2,]} \n",
    "    df=pd.DataFrame(dic)\n",
    "    df.to_csv('election_data.csv')\n",
    "\n",
    "    \n",
    "    "
   ]
  },
  {
   "cell_type": "code",
   "execution_count": 17,
   "metadata": {},
   "outputs": [
    {
     "data": {
      "text/html": [
       "<div>\n",
       "<style scoped>\n",
       "    .dataframe tbody tr th:only-of-type {\n",
       "        vertical-align: middle;\n",
       "    }\n",
       "\n",
       "    .dataframe tbody tr th {\n",
       "        vertical-align: top;\n",
       "    }\n",
       "\n",
       "    .dataframe thead th {\n",
       "        text-align: right;\n",
       "    }\n",
       "</style>\n",
       "<table border=\"1\" class=\"dataframe\">\n",
       "  <thead>\n",
       "    <tr style=\"text-align: right;\">\n",
       "      <th></th>\n",
       "      <th>Unnamed: 0</th>\n",
       "      <th>State</th>\n",
       "      <th>Party</th>\n",
       "      <th>Seats_Won</th>\n",
       "      <th>Total_Seats</th>\n",
       "      <th>Voter_Turnout</th>\n",
       "    </tr>\n",
       "  </thead>\n",
       "  <tbody>\n",
       "    <tr>\n",
       "      <th>0</th>\n",
       "      <td>0</td>\n",
       "      <td>Madhya Pradesh</td>\n",
       "      <td>BJP</td>\n",
       "      <td>163</td>\n",
       "      <td>230</td>\n",
       "      <td>72.1</td>\n",
       "    </tr>\n",
       "    <tr>\n",
       "      <th>1</th>\n",
       "      <td>1</td>\n",
       "      <td>Madhya Pradesh</td>\n",
       "      <td>INC</td>\n",
       "      <td>66</td>\n",
       "      <td>230</td>\n",
       "      <td>72.1</td>\n",
       "    </tr>\n",
       "    <tr>\n",
       "      <th>2</th>\n",
       "      <td>2</td>\n",
       "      <td>Madhya Pradesh</td>\n",
       "      <td>BSP</td>\n",
       "      <td>0</td>\n",
       "      <td>230</td>\n",
       "      <td>72.1</td>\n",
       "    </tr>\n",
       "    <tr>\n",
       "      <th>3</th>\n",
       "      <td>3</td>\n",
       "      <td>Madhya Pradesh</td>\n",
       "      <td>Others</td>\n",
       "      <td>1</td>\n",
       "      <td>230</td>\n",
       "      <td>72.1</td>\n",
       "    </tr>\n",
       "    <tr>\n",
       "      <th>4</th>\n",
       "      <td>4</td>\n",
       "      <td>Rajasthan</td>\n",
       "      <td>BJP</td>\n",
       "      <td>115</td>\n",
       "      <td>200</td>\n",
       "      <td>74.2</td>\n",
       "    </tr>\n",
       "  </tbody>\n",
       "</table>\n",
       "</div>"
      ],
      "text/plain": [
       "   Unnamed: 0           State   Party  Seats_Won  Total_Seats  Voter_Turnout\n",
       "0           0  Madhya Pradesh     BJP        163          230           72.1\n",
       "1           1  Madhya Pradesh     INC         66          230           72.1\n",
       "2           2  Madhya Pradesh     BSP          0          230           72.1\n",
       "3           3  Madhya Pradesh  Others          1          230           72.1\n",
       "4           4       Rajasthan     BJP        115          200           74.2"
      ]
     },
     "execution_count": 17,
     "metadata": {},
     "output_type": "execute_result"
    }
   ],
   "source": [
    "df=pd.read_csv('election_data.csv')\n",
    "df.head()"
   ]
  },
  {
   "cell_type": "code",
   "execution_count": 42,
   "metadata": {},
   "outputs": [
    {
     "data": {
      "text/html": [
       "<div>\n",
       "<style scoped>\n",
       "    .dataframe tbody tr th:only-of-type {\n",
       "        vertical-align: middle;\n",
       "    }\n",
       "\n",
       "    .dataframe tbody tr th {\n",
       "        vertical-align: top;\n",
       "    }\n",
       "\n",
       "    .dataframe thead th {\n",
       "        text-align: right;\n",
       "    }\n",
       "</style>\n",
       "<table border=\"1\" class=\"dataframe\">\n",
       "  <thead>\n",
       "    <tr style=\"text-align: right;\">\n",
       "      <th></th>\n",
       "      <th>Unnamed: 0</th>\n",
       "      <th>State</th>\n",
       "      <th>Party</th>\n",
       "      <th>Seats_Won</th>\n",
       "      <th>Total_Seats</th>\n",
       "      <th>Voter_Turnout</th>\n",
       "      <th>Seats_Percentage</th>\n",
       "    </tr>\n",
       "  </thead>\n",
       "  <tbody>\n",
       "    <tr>\n",
       "      <th>0</th>\n",
       "      <td>0</td>\n",
       "      <td>Madhya Pradesh</td>\n",
       "      <td>BJP</td>\n",
       "      <td>163</td>\n",
       "      <td>230</td>\n",
       "      <td>72.1</td>\n",
       "      <td>0.708696</td>\n",
       "    </tr>\n",
       "    <tr>\n",
       "      <th>1</th>\n",
       "      <td>1</td>\n",
       "      <td>Madhya Pradesh</td>\n",
       "      <td>INC</td>\n",
       "      <td>66</td>\n",
       "      <td>230</td>\n",
       "      <td>72.1</td>\n",
       "      <td>0.286957</td>\n",
       "    </tr>\n",
       "    <tr>\n",
       "      <th>2</th>\n",
       "      <td>2</td>\n",
       "      <td>Madhya Pradesh</td>\n",
       "      <td>BSP</td>\n",
       "      <td>0</td>\n",
       "      <td>230</td>\n",
       "      <td>72.1</td>\n",
       "      <td>0.000000</td>\n",
       "    </tr>\n",
       "    <tr>\n",
       "      <th>3</th>\n",
       "      <td>3</td>\n",
       "      <td>Madhya Pradesh</td>\n",
       "      <td>Others</td>\n",
       "      <td>1</td>\n",
       "      <td>230</td>\n",
       "      <td>72.1</td>\n",
       "      <td>0.004348</td>\n",
       "    </tr>\n",
       "    <tr>\n",
       "      <th>4</th>\n",
       "      <td>4</td>\n",
       "      <td>Rajasthan</td>\n",
       "      <td>BJP</td>\n",
       "      <td>115</td>\n",
       "      <td>200</td>\n",
       "      <td>74.2</td>\n",
       "      <td>0.575000</td>\n",
       "    </tr>\n",
       "  </tbody>\n",
       "</table>\n",
       "</div>"
      ],
      "text/plain": [
       "   Unnamed: 0           State   Party  Seats_Won  Total_Seats  Voter_Turnout  \\\n",
       "0           0  Madhya Pradesh     BJP        163          230           72.1   \n",
       "1           1  Madhya Pradesh     INC         66          230           72.1   \n",
       "2           2  Madhya Pradesh     BSP          0          230           72.1   \n",
       "3           3  Madhya Pradesh  Others          1          230           72.1   \n",
       "4           4       Rajasthan     BJP        115          200           74.2   \n",
       "\n",
       "   Seats_Percentage  \n",
       "0          0.708696  \n",
       "1          0.286957  \n",
       "2          0.000000  \n",
       "3          0.004348  \n",
       "4          0.575000  "
      ]
     },
     "execution_count": 42,
     "metadata": {},
     "output_type": "execute_result"
    }
   ],
   "source": [
    "Seats_percentage=[]\n",
    "for i in range(len(df.iloc[:,3])):\n",
    "    Seats_percentage.append(df.iloc[:,3][i]/df.iloc[:,4][i])\n",
    "df['Seats_Percentage']=Seats_percentage\n",
    "df.head()"
   ]
  },
  {
   "cell_type": "code",
   "execution_count": 69,
   "metadata": {},
   "outputs": [],
   "source": [
    "rajasthan = df[df['State'] == 'Rajasthan'].reset_index(drop=True)\n",
    "madhya_pradesh = df[df['State'] == 'Madhya Pradesh'].reset_index(drop=True)\n"
   ]
  },
  {
   "cell_type": "code",
   "execution_count": 74,
   "metadata": {},
   "outputs": [
    {
     "data": {
      "text/html": [
       "<div>\n",
       "<style scoped>\n",
       "    .dataframe tbody tr th:only-of-type {\n",
       "        vertical-align: middle;\n",
       "    }\n",
       "\n",
       "    .dataframe tbody tr th {\n",
       "        vertical-align: top;\n",
       "    }\n",
       "\n",
       "    .dataframe thead th {\n",
       "        text-align: right;\n",
       "    }\n",
       "</style>\n",
       "<table border=\"1\" class=\"dataframe\">\n",
       "  <thead>\n",
       "    <tr style=\"text-align: right;\">\n",
       "      <th></th>\n",
       "      <th>Unnamed: 0</th>\n",
       "      <th>State</th>\n",
       "      <th>Party</th>\n",
       "      <th>Seats_Won</th>\n",
       "      <th>Total_Seats</th>\n",
       "      <th>Voter_Turnout</th>\n",
       "      <th>Seats_Percentage</th>\n",
       "    </tr>\n",
       "  </thead>\n",
       "  <tbody>\n",
       "    <tr>\n",
       "      <th>0</th>\n",
       "      <td>0</td>\n",
       "      <td>Madhya Pradesh</td>\n",
       "      <td>BJP</td>\n",
       "      <td>163</td>\n",
       "      <td>230</td>\n",
       "      <td>72.1</td>\n",
       "      <td>0.708696</td>\n",
       "    </tr>\n",
       "    <tr>\n",
       "      <th>1</th>\n",
       "      <td>1</td>\n",
       "      <td>Madhya Pradesh</td>\n",
       "      <td>INC</td>\n",
       "      <td>66</td>\n",
       "      <td>230</td>\n",
       "      <td>72.1</td>\n",
       "      <td>0.286957</td>\n",
       "    </tr>\n",
       "    <tr>\n",
       "      <th>2</th>\n",
       "      <td>2</td>\n",
       "      <td>Madhya Pradesh</td>\n",
       "      <td>BSP</td>\n",
       "      <td>0</td>\n",
       "      <td>230</td>\n",
       "      <td>72.1</td>\n",
       "      <td>0.000000</td>\n",
       "    </tr>\n",
       "    <tr>\n",
       "      <th>3</th>\n",
       "      <td>3</td>\n",
       "      <td>Madhya Pradesh</td>\n",
       "      <td>Others</td>\n",
       "      <td>1</td>\n",
       "      <td>230</td>\n",
       "      <td>72.1</td>\n",
       "      <td>0.004348</td>\n",
       "    </tr>\n",
       "  </tbody>\n",
       "</table>\n",
       "</div>"
      ],
      "text/plain": [
       "   Unnamed: 0           State   Party  Seats_Won  Total_Seats  Voter_Turnout  \\\n",
       "0           0  Madhya Pradesh     BJP        163          230           72.1   \n",
       "1           1  Madhya Pradesh     INC         66          230           72.1   \n",
       "2           2  Madhya Pradesh     BSP          0          230           72.1   \n",
       "3           3  Madhya Pradesh  Others          1          230           72.1   \n",
       "\n",
       "   Seats_Percentage  \n",
       "0          0.708696  \n",
       "1          0.286957  \n",
       "2          0.000000  \n",
       "3          0.004348  "
      ]
     },
     "execution_count": 74,
     "metadata": {},
     "output_type": "execute_result"
    }
   ],
   "source": [
    "madhya_pradesh.head()"
   ]
  },
  {
   "cell_type": "code",
   "execution_count": 75,
   "metadata": {},
   "outputs": [
    {
     "data": {
      "text/html": [
       "<div>\n",
       "<style scoped>\n",
       "    .dataframe tbody tr th:only-of-type {\n",
       "        vertical-align: middle;\n",
       "    }\n",
       "\n",
       "    .dataframe tbody tr th {\n",
       "        vertical-align: top;\n",
       "    }\n",
       "\n",
       "    .dataframe thead th {\n",
       "        text-align: right;\n",
       "    }\n",
       "</style>\n",
       "<table border=\"1\" class=\"dataframe\">\n",
       "  <thead>\n",
       "    <tr style=\"text-align: right;\">\n",
       "      <th></th>\n",
       "      <th>Unnamed: 0</th>\n",
       "      <th>State</th>\n",
       "      <th>Party</th>\n",
       "      <th>Seats_Won</th>\n",
       "      <th>Total_Seats</th>\n",
       "      <th>Voter_Turnout</th>\n",
       "      <th>Seats_Percentage</th>\n",
       "    </tr>\n",
       "  </thead>\n",
       "  <tbody>\n",
       "    <tr>\n",
       "      <th>0</th>\n",
       "      <td>4</td>\n",
       "      <td>Rajasthan</td>\n",
       "      <td>BJP</td>\n",
       "      <td>115</td>\n",
       "      <td>200</td>\n",
       "      <td>74.2</td>\n",
       "      <td>0.575</td>\n",
       "    </tr>\n",
       "    <tr>\n",
       "      <th>1</th>\n",
       "      <td>5</td>\n",
       "      <td>Rajasthan</td>\n",
       "      <td>INC</td>\n",
       "      <td>69</td>\n",
       "      <td>200</td>\n",
       "      <td>74.2</td>\n",
       "      <td>0.345</td>\n",
       "    </tr>\n",
       "    <tr>\n",
       "      <th>2</th>\n",
       "      <td>6</td>\n",
       "      <td>Rajasthan</td>\n",
       "      <td>BSP</td>\n",
       "      <td>2</td>\n",
       "      <td>200</td>\n",
       "      <td>74.2</td>\n",
       "      <td>0.010</td>\n",
       "    </tr>\n",
       "    <tr>\n",
       "      <th>3</th>\n",
       "      <td>7</td>\n",
       "      <td>Rajasthan</td>\n",
       "      <td>Others</td>\n",
       "      <td>13</td>\n",
       "      <td>200</td>\n",
       "      <td>74.2</td>\n",
       "      <td>0.065</td>\n",
       "    </tr>\n",
       "  </tbody>\n",
       "</table>\n",
       "</div>"
      ],
      "text/plain": [
       "   Unnamed: 0      State   Party  Seats_Won  Total_Seats  Voter_Turnout  \\\n",
       "0           4  Rajasthan     BJP        115          200           74.2   \n",
       "1           5  Rajasthan     INC         69          200           74.2   \n",
       "2           6  Rajasthan     BSP          2          200           74.2   \n",
       "3           7  Rajasthan  Others         13          200           74.2   \n",
       "\n",
       "   Seats_Percentage  \n",
       "0             0.575  \n",
       "1             0.345  \n",
       "2             0.010  \n",
       "3             0.065  "
      ]
     },
     "execution_count": 75,
     "metadata": {},
     "output_type": "execute_result"
    }
   ],
   "source": [
    "rajasthan.head()\n"
   ]
  },
  {
   "cell_type": "code",
   "execution_count": null,
   "metadata": {},
   "outputs": [
    {
     "name": "stdout",
     "output_type": "stream",
     "text": [
      "BJP\n"
     ]
    }
   ],
   "source": [
    "rajasthan_largest = rajasthan.iloc[0, 2]\n",
    "m = rajasthan.iloc[0, 3]  \n",
    "for i in range(len(rajasthan)):\n",
    "    if rajasthan.iloc[i, 3] > m:\n",
    "        m = rajasthan.iloc[i, 3]\n",
    "        largest = largest+rajasthan.iloc[i, 2]  \n",
    "print(rajasthan_largest)\n"
   ]
  },
  {
   "cell_type": "code",
   "execution_count": 81,
   "metadata": {},
   "outputs": [
    {
     "name": "stdout",
     "output_type": "stream",
     "text": [
      "BJP\n"
     ]
    }
   ],
   "source": [
    "mp_largest = madhya_pradesh.iloc[0, 2]\n",
    "m = madhya_pradesh.iloc[0, 3]  \n",
    "for i in range(len(madhya_pradesh)):\n",
    "    if madhya_pradesh.iloc[i, 3] > m:\n",
    "        m = madhya_pradesh.iloc[i, 3]\n",
    "        largest = largest+madhya_pradesh.iloc[i, 2]  \n",
    "print(mp_largest)"
   ]
  },
  {
   "cell_type": "code",
   "execution_count": 86,
   "metadata": {},
   "outputs": [
    {
     "data": {
      "text/html": [
       "<div>\n",
       "<style scoped>\n",
       "    .dataframe tbody tr th:only-of-type {\n",
       "        vertical-align: middle;\n",
       "    }\n",
       "\n",
       "    .dataframe tbody tr th {\n",
       "        vertical-align: top;\n",
       "    }\n",
       "\n",
       "    .dataframe thead th {\n",
       "        text-align: right;\n",
       "    }\n",
       "</style>\n",
       "<table border=\"1\" class=\"dataframe\">\n",
       "  <thead>\n",
       "    <tr style=\"text-align: right;\">\n",
       "      <th>Party</th>\n",
       "      <th>BJP</th>\n",
       "      <th>BSP</th>\n",
       "      <th>INC</th>\n",
       "      <th>Others</th>\n",
       "    </tr>\n",
       "    <tr>\n",
       "      <th>State</th>\n",
       "      <th></th>\n",
       "      <th></th>\n",
       "      <th></th>\n",
       "      <th></th>\n",
       "    </tr>\n",
       "  </thead>\n",
       "  <tbody>\n",
       "    <tr>\n",
       "      <th>Madhya Pradesh</th>\n",
       "      <td>163</td>\n",
       "      <td>0</td>\n",
       "      <td>66</td>\n",
       "      <td>1</td>\n",
       "    </tr>\n",
       "    <tr>\n",
       "      <th>Rajasthan</th>\n",
       "      <td>115</td>\n",
       "      <td>2</td>\n",
       "      <td>69</td>\n",
       "      <td>13</td>\n",
       "    </tr>\n",
       "  </tbody>\n",
       "</table>\n",
       "</div>"
      ],
      "text/plain": [
       "Party           BJP  BSP  INC  Others\n",
       "State                                \n",
       "Madhya Pradesh  163    0   66       1\n",
       "Rajasthan       115    2   69      13"
      ]
     },
     "execution_count": 86,
     "metadata": {},
     "output_type": "execute_result"
    }
   ],
   "source": [
    "pivot_df = df.pivot(index='State', columns='Party', values='Seats_Won')\n",
    "pivot_df.head()"
   ]
  },
  {
   "cell_type": "code",
   "execution_count": 87,
   "metadata": {},
   "outputs": [],
   "source": [
    "import matplotlib.pyplot as plt"
   ]
  },
  {
   "cell_type": "code",
   "execution_count": 94,
   "metadata": {},
   "outputs": [
    {
     "data": {
      "text/plain": [
       "(array([0, 1]), [Text(0, 0, 'Madhya Pradesh'), Text(1, 0, 'Rajasthan')])"
      ]
     },
     "execution_count": 94,
     "metadata": {},
     "output_type": "execute_result"
    },
    {
     "data": {
      "image/png": "[encoded data removed]",
      "text/plain": [
       "<Figure size 1000x600 with 1 Axes>"
      ]
     },
     "metadata": {},
     "output_type": "display_data"
    }
   ],
   "source": [
    "pivot_df.plot(kind='bar', figsize=(10, 6))\n",
    "plt.ylabel('Seats')\n",
    "plt.title(\"SEATS WON BY PARTIES\")\n",
    "plt.xticks(rotation=45)"
   ]
  },
  {
   "cell_type": "code",
   "execution_count": null,
   "metadata": {},
   "outputs": [],
   "source": []
  }
 ],
 "metadata": {
  "kernelspec": {
   "display_name": "Python 3",
   "language": "python",
   "name": "python3"
  },
  "language_info": {
   "codemirror_mode": {
    "name": "ipython",
    "version": 3
   },
   "file_extension": ".py",
   "mimetype": "text/x-python",
   "name": "python",
   "nbconvert_exporter": "python",
   "pygments_lexer": "ipython3",
   "version": "3.9.12"
  }
 },
 "nbformat": 4,
 "nbformat_minor": 2
}
